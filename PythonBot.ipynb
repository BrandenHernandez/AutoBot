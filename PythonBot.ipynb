#if response includes instructor, teacher, professor
#then respond = 'Instructor: Dr. Susan Mengel'
loop = True
while loop: 
    response = input("What is your question? ")
    response = response.lower()
    if "course name" in response:
        print("Introduction to Artificial Intelligence")
    elif "course number" in response:
        print("CS3368-001/002/003")
    elif "semester" in response:
        print("Fall 2022")
    elif "class" in response:
        print("001/002/003: IMSE 121, 8:00-9:20 (Tue, Thur)")
    elif "instructor" in response:
        print("The instructor is Dr. Susan Mengel")
    elif "office" in response:
        print("Dr. Mengel's office is in EC318")
    elif "office hours" in response:
        print("Office Hours: 10:00 – 12:00 (Tue), 10:00 – 11:00 (Thur)")
    elif "email" in response:
        print("Email: susan.mengel@ttu.edu")
    elif "ta" in response:
        print("Ms. Ruoyo Xu and her email is: ruoyxu@ttu.edu")
    elif "catalog" in response:
        print("3368: Provides introduction to theory, design, and implementation of intelligent systems")
    elif "book" in response:
        print("Artificial Intelligence: A Modern Approach, 4th ed., Stuart Russell and Peter Norvig. Pearson, 2021, eText, ISBN-13: 978-0-13-46109-3.")
    elif response == "q":
        loop = False
    else: print(response)
else: print("Goodbye")
